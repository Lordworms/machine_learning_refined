{
 "cells": [
  {
   "cell_type": "code",
   "execution_count": 1,
   "metadata": {},
   "outputs": [],
   "source": [
    "import numpy as np\n",
    "import copy\n",
    "import matplotlib.pyplot as plt\n",
    "import math\n",
    "import itertools\n",
    "from mpl_toolkits.mplot3d import Axes3D\n",
    "from mlrefined_libraries import math_optimization_library as optlib\n",
    "from sklearn.linear_model import LinearRegression\n",
    "static_plotter = optlib.static_plotter.Visualizer();\n",
    "\n"
   ]
  },
  {
   "cell_type": "markdown",
   "metadata": {},
   "source": [
    "${4.1}$\n",
    "![avator](/Users/xiangyanxin/personal/GraduateCourse/ML/assignment/pic/4-1-1.png)\n",
    "![avator](/Users/xiangyanxin/personal/GraduateCourse/ML/assignment/pic/4-1-2.png)"
   ]
  },
  {
   "cell_type": "markdown",
   "metadata": {},
   "source": [
    "${5.2}$"
   ]
  },
  {
   "cell_type": "code",
   "execution_count": 2,
   "metadata": {},
   "outputs": [
    {
     "name": "stdout",
     "output_type": "stream",
     "text": [
      "[6.81473477]\n",
      "[[0.6528121]]\n",
      "[[2.59098109]]\n"
     ]
    }
   ],
   "source": [
    "def mode(x,w):\n",
    "    y_hat = np .dot(x, w)\n",
    "    return y_hat\n",
    "def least_squares (y,x,w):\n",
    "    cost = np. sum (( mode(x, w) - y) ** 2)\n",
    "    return cost / (2*float(y. size))\n",
    "def linear_gradient_descent(x,y,w,alpha=0.1,max_its=100):   \n",
    "    gradient = lambda w : (1 / float(y.size)) * (x.T.dot(x.dot(w) - y))\n",
    "    weight_history = [w]          \n",
    "    cost_history = [least_squares(y,x,w)]          \n",
    "    for _ in range(max_its):\n",
    "        grad_eval = gradient(w)\n",
    "        w = w - alpha*grad_eval\n",
    "        weight_history.append(w)\n",
    "        cost_history.append(least_squares(y,x,w))\n",
    "    return weight_history,cost_history\n",
    "\n",
    "data_path=\"data/\"\n",
    "file_name=\"kleibers_law_data.csv\"\n",
    "csv_name=data_path+file_name\n",
    "data=np.loadtxt(csv_name,delimiter=',')\n",
    "x=data[:-1,:]\n",
    "y=data[-1:,:]\n",
    "#print(np.log(1370))\n",
    "x=[np.log(xi) for xi in x]\n",
    "y=[np.log(yi) for yi in y]\n",
    "x = np.reshape(x,(-1,1))\n",
    "y=np.reshape(y,(-1,1))\n",
    "model=LinearRegression()\n",
    "model.fit(x,y)\n",
    "w0=model.intercept_\n",
    "w1=model.coef_\n",
    "y=lambda x:np.log(w0+w1*x)\n",
    "print(w0)\n",
    "print(w1)\n",
    "print(y(10))"
   ]
  },
  {
   "cell_type": "markdown",
   "metadata": {},
   "source": [
    "c. ${y=x^{0.6528121}+e^{6.81473477}}$  \n",
    "d. 2.59098109"
   ]
  },
  {
   "cell_type": "code",
   "execution_count": 3,
   "metadata": {},
   "outputs": [
    {
     "name": "stdout",
     "output_type": "stream",
     "text": [
      "711.0\n",
      "(506, 13)\n",
      "(506, 1)\n",
      "nan\n",
      "(398, 7)\n",
      "(398, 1)\n"
     ]
    },
    {
     "data": {
      "image/png": "[encoded data removed]",
      "text/plain": [
       "<Figure size 640x480 with 1 Axes>"
      ]
     },
     "metadata": {},
     "output_type": "display_data"
    }
   ],
   "source": [
    "#5.9\n",
    "def normalization(data):\n",
    "    range = np.max(data) - np.min(data)\n",
    "    return (data - np.min(data)) / range\n",
    "def standardization(data):\n",
    "    mu = np.mean(data, axis=0)\n",
    "    sigma = np.std(data, axis=0)\n",
    "    return (data - mu) / sigma\n",
    "file_name=\"boston_housing.csv\"\n",
    "csv_name=data_path+file_name\n",
    "data=np.loadtxt(csv_name,delimiter=',')\n",
    "x = data[:-1,:]\n",
    "y = data[-1:,:]\n",
    "print(np.max(x))\n",
    "x=np.reshape(x,(506,13))\n",
    "x=standardization(x)\n",
    "y=np.reshape(y,(506,1))\n",
    "print(np.shape(x))\n",
    "print(np.shape(y))\n",
    "w=np.ones((13,1))\n",
    "_,cost_mse_bos=linear_gradient_descent(x,y,w)\n",
    "file_name=\"auto_data.csv\"\n",
    "csv_name=data_path+file_name\n",
    "data=np.loadtxt(csv_name,delimiter=',')\n",
    "xx = data[:-1,:]\n",
    "yy = data[-1:,:]\n",
    "xx=np.reshape(xx,(398,7))\n",
    "print(np.max(xx))\n",
    "xx=normalization(xx)\n",
    "yy=np.reshape(yy,(398,1))\n",
    "print(np.shape(xx))\n",
    "print(np.shape(yy))\n",
    "w=np.ones((7,1))\n",
    "_,cost_mse_mobile=linear_gradient_descent(xx,yy,w)\n",
    "w=np.linspace(0,100,101)\n",
    "\n",
    "plt.plot(w,cost_mse_bos,color='r',label=\"boston housing cost\")\n",
    "plt.legend()\n",
    "plt.show()"
   ]
  },
  {
   "cell_type": "code",
   "execution_count": 4,
   "metadata": {},
   "outputs": [],
   "source": [
    "#6.5\n",
    "def mod(x,w):\n",
    "    a=w[0]+np.dot(x.T,w[1:])\n",
    "def sigmoid(t):\n",
    "    return 1/(1+np.exp(-t))\n",
    "def cross_entropy(w):\n",
    "    a=sigmoid(mod(x,w))\n",
    "    ind=np.argwhere(y==0)[:,1]\n",
    "    cost=-np.sum(np.log(1-a[:,ind]))\n",
    "    ind=np.argwhere(y==1)[:,1]\n",
    "    cost-=np.sum(np.log(a[:,ind]))\n",
    "    return cost/y.size\n"
   ]
  },
  {
   "cell_type": "markdown",
   "metadata": {},
   "source": [
    "${6-5}$\n",
    "![avator](/Users/xiangyanxin/personal/GraduateCourse/ML/assignment/pic/6-5.png)"
   ]
  },
  {
   "cell_type": "markdown",
   "metadata": {},
   "source": [
    "${6-11}$\n",
    "![avator](/Users/xiangyanxin/personal/GraduateCourse/ML/assignment/pic/6-11.png)"
   ]
  }
 ],
 "metadata": {
  "kernelspec": {
   "display_name": "Python 3.9.13 64-bit",
   "language": "python",
   "name": "python3"
  },
  "language_info": {
   "codemirror_mode": {
    "name": "ipython",
    "version": 3
   },
   "file_extension": ".py",
   "mimetype": "text/x-python",
   "name": "python",
   "nbconvert_exporter": "python",
   "pygments_lexer": "ipython3",
   "version": "3.9.13"
  },
  "orig_nbformat": 4,
  "vscode": {
   "interpreter": {
    "hash": "b0fa6594d8f4cbf19f97940f81e996739fb7646882a419484c72d19e05852a7e"
   }
  }
 },
 "nbformat": 4,
 "nbformat_minor": 2
}
